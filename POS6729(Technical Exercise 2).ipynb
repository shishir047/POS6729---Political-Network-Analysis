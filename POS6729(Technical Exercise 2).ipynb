{
  "nbformat": 4,
  "nbformat_minor": 0,
  "metadata": {
    "colab": {
      "provenance": []
    },
    "kernelspec": {
      "name": "python3",
      "display_name": "Python 3"
    },
    "language_info": {
      "name": "python"
    }
  },
  "cells": [
    {
      "cell_type": "code",
      "source": [
        "import networkx as nx\n",
        "\n",
        "from google.colab import files\n",
        "uploaded = files.upload()"
      ],
      "metadata": {
        "colab": {
          "base_uri": "https://localhost:8080/",
          "height": 73
        },
        "id": "8K88-vSGu88_",
        "outputId": "38537ffc-4197-4c75-ee1b-5df2357855e2"
      },
      "execution_count": 29,
      "outputs": [
        {
          "output_type": "display_data",
          "data": {
            "text/plain": [
              "<IPython.core.display.HTML object>"
            ],
            "text/html": [
              "\n",
              "     <input type=\"file\" id=\"files-15c2dd76-30ec-4c3c-8da7-526872a33937\" name=\"files[]\" multiple disabled\n",
              "        style=\"border:none\" />\n",
              "     <output id=\"result-15c2dd76-30ec-4c3c-8da7-526872a33937\">\n",
              "      Upload widget is only available when the cell has been executed in the\n",
              "      current browser session. Please rerun this cell to enable.\n",
              "      </output>\n",
              "      <script>// Copyright 2017 Google LLC\n",
              "//\n",
              "// Licensed under the Apache License, Version 2.0 (the \"License\");\n",
              "// you may not use this file except in compliance with the License.\n",
              "// You may obtain a copy of the License at\n",
              "//\n",
              "//      http://www.apache.org/licenses/LICENSE-2.0\n",
              "//\n",
              "// Unless required by applicable law or agreed to in writing, software\n",
              "// distributed under the License is distributed on an \"AS IS\" BASIS,\n",
              "// WITHOUT WARRANTIES OR CONDITIONS OF ANY KIND, either express or implied.\n",
              "// See the License for the specific language governing permissions and\n",
              "// limitations under the License.\n",
              "\n",
              "/**\n",
              " * @fileoverview Helpers for google.colab Python module.\n",
              " */\n",
              "(function(scope) {\n",
              "function span(text, styleAttributes = {}) {\n",
              "  const element = document.createElement('span');\n",
              "  element.textContent = text;\n",
              "  for (const key of Object.keys(styleAttributes)) {\n",
              "    element.style[key] = styleAttributes[key];\n",
              "  }\n",
              "  return element;\n",
              "}\n",
              "\n",
              "// Max number of bytes which will be uploaded at a time.\n",
              "const MAX_PAYLOAD_SIZE = 100 * 1024;\n",
              "\n",
              "function _uploadFiles(inputId, outputId) {\n",
              "  const steps = uploadFilesStep(inputId, outputId);\n",
              "  const outputElement = document.getElementById(outputId);\n",
              "  // Cache steps on the outputElement to make it available for the next call\n",
              "  // to uploadFilesContinue from Python.\n",
              "  outputElement.steps = steps;\n",
              "\n",
              "  return _uploadFilesContinue(outputId);\n",
              "}\n",
              "\n",
              "// This is roughly an async generator (not supported in the browser yet),\n",
              "// where there are multiple asynchronous steps and the Python side is going\n",
              "// to poll for completion of each step.\n",
              "// This uses a Promise to block the python side on completion of each step,\n",
              "// then passes the result of the previous step as the input to the next step.\n",
              "function _uploadFilesContinue(outputId) {\n",
              "  const outputElement = document.getElementById(outputId);\n",
              "  const steps = outputElement.steps;\n",
              "\n",
              "  const next = steps.next(outputElement.lastPromiseValue);\n",
              "  return Promise.resolve(next.value.promise).then((value) => {\n",
              "    // Cache the last promise value to make it available to the next\n",
              "    // step of the generator.\n",
              "    outputElement.lastPromiseValue = value;\n",
              "    return next.value.response;\n",
              "  });\n",
              "}\n",
              "\n",
              "/**\n",
              " * Generator function which is called between each async step of the upload\n",
              " * process.\n",
              " * @param {string} inputId Element ID of the input file picker element.\n",
              " * @param {string} outputId Element ID of the output display.\n",
              " * @return {!Iterable<!Object>} Iterable of next steps.\n",
              " */\n",
              "function* uploadFilesStep(inputId, outputId) {\n",
              "  const inputElement = document.getElementById(inputId);\n",
              "  inputElement.disabled = false;\n",
              "\n",
              "  const outputElement = document.getElementById(outputId);\n",
              "  outputElement.innerHTML = '';\n",
              "\n",
              "  const pickedPromise = new Promise((resolve) => {\n",
              "    inputElement.addEventListener('change', (e) => {\n",
              "      resolve(e.target.files);\n",
              "    });\n",
              "  });\n",
              "\n",
              "  const cancel = document.createElement('button');\n",
              "  inputElement.parentElement.appendChild(cancel);\n",
              "  cancel.textContent = 'Cancel upload';\n",
              "  const cancelPromise = new Promise((resolve) => {\n",
              "    cancel.onclick = () => {\n",
              "      resolve(null);\n",
              "    };\n",
              "  });\n",
              "\n",
              "  // Wait for the user to pick the files.\n",
              "  const files = yield {\n",
              "    promise: Promise.race([pickedPromise, cancelPromise]),\n",
              "    response: {\n",
              "      action: 'starting',\n",
              "    }\n",
              "  };\n",
              "\n",
              "  cancel.remove();\n",
              "\n",
              "  // Disable the input element since further picks are not allowed.\n",
              "  inputElement.disabled = true;\n",
              "\n",
              "  if (!files) {\n",
              "    return {\n",
              "      response: {\n",
              "        action: 'complete',\n",
              "      }\n",
              "    };\n",
              "  }\n",
              "\n",
              "  for (const file of files) {\n",
              "    const li = document.createElement('li');\n",
              "    li.append(span(file.name, {fontWeight: 'bold'}));\n",
              "    li.append(span(\n",
              "        `(${file.type || 'n/a'}) - ${file.size} bytes, ` +\n",
              "        `last modified: ${\n",
              "            file.lastModifiedDate ? file.lastModifiedDate.toLocaleDateString() :\n",
              "                                    'n/a'} - `));\n",
              "    const percent = span('0% done');\n",
              "    li.appendChild(percent);\n",
              "\n",
              "    outputElement.appendChild(li);\n",
              "\n",
              "    const fileDataPromise = new Promise((resolve) => {\n",
              "      const reader = new FileReader();\n",
              "      reader.onload = (e) => {\n",
              "        resolve(e.target.result);\n",
              "      };\n",
              "      reader.readAsArrayBuffer(file);\n",
              "    });\n",
              "    // Wait for the data to be ready.\n",
              "    let fileData = yield {\n",
              "      promise: fileDataPromise,\n",
              "      response: {\n",
              "        action: 'continue',\n",
              "      }\n",
              "    };\n",
              "\n",
              "    // Use a chunked sending to avoid message size limits. See b/62115660.\n",
              "    let position = 0;\n",
              "    do {\n",
              "      const length = Math.min(fileData.byteLength - position, MAX_PAYLOAD_SIZE);\n",
              "      const chunk = new Uint8Array(fileData, position, length);\n",
              "      position += length;\n",
              "\n",
              "      const base64 = btoa(String.fromCharCode.apply(null, chunk));\n",
              "      yield {\n",
              "        response: {\n",
              "          action: 'append',\n",
              "          file: file.name,\n",
              "          data: base64,\n",
              "        },\n",
              "      };\n",
              "\n",
              "      let percentDone = fileData.byteLength === 0 ?\n",
              "          100 :\n",
              "          Math.round((position / fileData.byteLength) * 100);\n",
              "      percent.textContent = `${percentDone}% done`;\n",
              "\n",
              "    } while (position < fileData.byteLength);\n",
              "  }\n",
              "\n",
              "  // All done.\n",
              "  yield {\n",
              "    response: {\n",
              "      action: 'complete',\n",
              "    }\n",
              "  };\n",
              "}\n",
              "\n",
              "scope.google = scope.google || {};\n",
              "scope.google.colab = scope.google.colab || {};\n",
              "scope.google.colab._files = {\n",
              "  _uploadFiles,\n",
              "  _uploadFilesContinue,\n",
              "};\n",
              "})(self);\n",
              "</script> "
            ]
          },
          "metadata": {}
        },
        {
          "output_type": "stream",
          "name": "stdout",
          "text": [
            "Saving 1stNetworkUpload.txt to 1stNetworkUpload (3).txt\n"
          ]
        }
      ]
    },
    {
      "cell_type": "markdown",
      "source": [
        "# Method 1: Using read_weighted_edgelist"
      ],
      "metadata": {
        "id": "N_G78D_cuxIF"
      }
    },
    {
      "cell_type": "code",
      "source": [
        "GraphWEL = nx.read_weighted_edgelist('1stNetworkUpload.txt', delimiter='\\t', nodetype=int)\n",
        "edges_to_remove_from_GraphWEL = [(u, v) for u, v, w in GraphWEL.edges(data=True) if w['weight'] == 0]\n",
        "GraphWEL.remove_edges_from(edges_to_remove_from_GraphWEL)"
      ],
      "metadata": {
        "id": "IY-k3iTmvKrH"
      },
      "execution_count": 30,
      "outputs": []
    },
    {
      "cell_type": "code",
      "source": [
        "print(len(GraphWEL.nodes()), len(GraphWEL.edges()))"
      ],
      "metadata": {
        "colab": {
          "base_uri": "https://localhost:8080/"
        },
        "id": "k9iYuw0PvMIM",
        "outputId": "f4654424-2c42-4688-aa8d-71730711acf2"
      },
      "execution_count": 31,
      "outputs": [
        {
          "output_type": "stream",
          "name": "stdout",
          "text": [
            "98 3205\n"
          ]
        }
      ]
    },
    {
      "cell_type": "code",
      "source": [
        "nodes_with_atleast_1_connections_GraphWEL = [node for node in GraphWEL.nodes() if len(list(GraphWEL.neighbors(node))) >= 1]\n",
        "print(\"nodes with at least one connection: \")\n",
        "print(nodes_with_atleast_1_connections_GraphWEL)\n",
        "print(\"total count: \")\n",
        "print(len(nodes_with_atleast_1_connections_GraphWEL))\n",
        "\n",
        "nodes_with_atleast_5_connections_WEL = [node for node in GraphWEL.nodes() if len(list(GraphWEL.neighbors(node))) >= 5]\n",
        "print(\"nodes with at least five connection: \")\n",
        "print(nodes_with_atleast_5_connections_WEL)\n",
        "print(\"total count: \")\n",
        "print(len(nodes_with_atleast_5_connections_WEL))"
      ],
      "metadata": {
        "colab": {
          "base_uri": "https://localhost:8080/"
        },
        "id": "vnlj5Ikovd60",
        "outputId": "a7b70465-b8ca-44d6-9546-ad3011f10dcf"
      },
      "execution_count": 32,
      "outputs": [
        {
          "output_type": "stream",
          "name": "stdout",
          "text": [
            "nodes with at least one connection: \n",
            "[1, 2, 3, 4, 5, 6, 7, 8, 9, 10, 11, 12, 13, 14, 15, 16, 17, 18, 19, 20, 21, 22, 23, 24, 25, 26, 27, 28, 29, 30, 31, 32, 33, 34, 35, 36, 37, 38, 39, 40, 41, 42, 43, 44, 45, 46, 47, 48, 49, 50, 51, 52, 53, 54, 55, 56, 57, 58, 59, 60, 61, 62, 63, 64, 65, 66, 67, 68, 69, 70, 71, 72, 73, 74, 75, 76, 77, 78, 79, 80, 81, 82, 83, 84, 85, 86, 87, 88, 89, 90, 91, 92, 93, 94, 95, 96, 97, 98]\n",
            "total count: \n",
            "98\n",
            "nodes with at least five connection: \n",
            "[1, 2, 3, 4, 5, 6, 7, 8, 9, 10, 11, 12, 13, 14, 15, 16, 17, 18, 19, 20, 21, 22, 23, 24, 25, 26, 27, 28, 29, 30, 31, 32, 33, 34, 35, 36, 37, 38, 39, 40, 41, 42, 43, 44, 45, 46, 47, 48, 49, 50, 51, 52, 53, 54, 55, 56, 57, 58, 59, 60, 61, 62, 63, 64, 65, 66, 67, 68, 69, 70, 71, 72, 73, 74, 75, 76, 77, 78, 79, 80, 81, 82, 83, 84, 85, 86, 87, 88, 89, 90, 91, 92, 93, 94, 95, 96, 97, 98]\n",
            "total count: \n",
            "98\n"
          ]
        }
      ]
    },
    {
      "cell_type": "markdown",
      "source": [
        "# Method 2: Using read_edgelist and remove data with weight 0"
      ],
      "metadata": {
        "id": "pz7JLPpzxENf"
      }
    },
    {
      "cell_type": "code",
      "source": [
        "GraphEL = nx.read_edgelist('1stNetworkUpload.txt', delimiter='\\t', data=[('weight', float)])\n",
        "edges_to_remove_GraphEL = [(u, v) for u, v, d in GraphEL.edges(data=True) if d['weight'] == 0]\n",
        "GraphEL.remove_edges_from(edges_to_remove_GraphEL)\n",
        "print(len(GraphEL.nodes()), len(GraphEL.edges()))"
      ],
      "metadata": {
        "colab": {
          "base_uri": "https://localhost:8080/"
        },
        "id": "N_YCXPJnvtGk",
        "outputId": "1e12242a-23e2-4bf8-d0ab-6a22cdb2e2d0"
      },
      "execution_count": 33,
      "outputs": [
        {
          "output_type": "stream",
          "name": "stdout",
          "text": [
            "98 3205\n"
          ]
        }
      ]
    },
    {
      "cell_type": "code",
      "source": [
        "nodes_with_atleast_1_connections_EL = [node for node in GraphEL.nodes() if len(list(GraphEL.neighbors(node))) >= 1]\n",
        "print(\"nodes with at least one connection: \")\n",
        "print(nodes_with_atleast_1_connections_EL)\n",
        "print(\"total count: \")\n",
        "print(len(nodes_with_atleast_1_connections_EL))\n",
        "\n",
        "nodes_with_atleast_5_connections_EL = [node for node in GraphEL.nodes() if len(list(GraphEL.neighbors(node))) >= 5]\n",
        "print(\"nodes with at least five connection: \")\n",
        "print(nodes_with_atleast_5_connections_EL)\n",
        "print(\"total count: \")\n",
        "print(len(nodes_with_atleast_5_connections_EL))"
      ],
      "metadata": {
        "colab": {
          "base_uri": "https://localhost:8080/"
        },
        "id": "WwK8vgwpwLTf",
        "outputId": "f1ca33f0-43cc-4839-da4d-582a5716242e"
      },
      "execution_count": 34,
      "outputs": [
        {
          "output_type": "stream",
          "name": "stdout",
          "text": [
            "nodes with at least one connection: \n",
            "['1', '2', '3', '4', '5', '6', '7', '8', '9', '10', '11', '12', '13', '14', '15', '16', '17', '18', '19', '20', '21', '22', '23', '24', '25', '26', '27', '28', '29', '30', '31', '32', '33', '34', '35', '36', '37', '38', '39', '40', '41', '42', '43', '44', '45', '46', '47', '48', '49', '50', '51', '52', '53', '54', '55', '56', '57', '58', '59', '60', '61', '62', '63', '64', '65', '66', '67', '68', '69', '70', '71', '72', '73', '74', '75', '76', '77', '78', '79', '80', '81', '82', '83', '84', '85', '86', '87', '88', '89', '90', '91', '92', '93', '94', '95', '96', '97', '98']\n",
            "total count: \n",
            "98\n",
            "nodes with at least five connection: \n",
            "['1', '2', '3', '4', '5', '6', '7', '8', '9', '10', '11', '12', '13', '14', '15', '16', '17', '18', '19', '20', '21', '22', '23', '24', '25', '26', '27', '28', '29', '30', '31', '32', '33', '34', '35', '36', '37', '38', '39', '40', '41', '42', '43', '44', '45', '46', '47', '48', '49', '50', '51', '52', '53', '54', '55', '56', '57', '58', '59', '60', '61', '62', '63', '64', '65', '66', '67', '68', '69', '70', '71', '72', '73', '74', '75', '76', '77', '78', '79', '80', '81', '82', '83', '84', '85', '86', '87', '88', '89', '90', '91', '92', '93', '94', '95', '96', '97', '98']\n",
            "total count: \n",
            "98\n"
          ]
        }
      ]
    },
    {
      "cell_type": "markdown",
      "source": [
        "# Method 3: Using reading file manually and adding data to Undireted Graph"
      ],
      "metadata": {
        "id": "amqnUHvvxW83"
      }
    },
    {
      "cell_type": "code",
      "source": [
        "UndiretedGraph = nx.Graph()\n",
        "\n",
        "with open('1stNetworkUpload.txt', 'r') as file:\n",
        "    for line in file:\n",
        "        parts = line.strip().split('\\t')\n",
        "        node1, node2, weight = parts\n",
        "        if weight != '0':\n",
        "          UndiretedGraph.add_edge(node1, node2)\n",
        "\n",
        "print(len(UndiretedGraph.nodes()), len(UndiretedGraph.edges()))"
      ],
      "metadata": {
        "colab": {
          "base_uri": "https://localhost:8080/"
        },
        "id": "XDoAR7aqy-fx",
        "outputId": "12c0ea6a-d905-4c86-d0cf-83e17dee95d7"
      },
      "execution_count": 35,
      "outputs": [
        {
          "output_type": "stream",
          "name": "stdout",
          "text": [
            "98 3205\n"
          ]
        }
      ]
    },
    {
      "cell_type": "code",
      "source": [
        "nodes_with_atleast_1_connections_UG = [node for node in UndiretedGraph.nodes() if len(list(UndiretedGraph.neighbors(node))) >= 1]\n",
        "print(\"nodes with at least one connection: \")\n",
        "print(nodes_with_atleast_1_connections_UG)\n",
        "print(\"total count: \")\n",
        "print(len(nodes_with_atleast_1_connections_UG))\n",
        "\n",
        "nodes_with_atleast_5_connections_UG = [node for node in UndiretedGraph.nodes() if len(list(UndiretedGraph.neighbors(node))) >= 5]\n",
        "print(\"nodes with at least five connection: \")\n",
        "print(nodes_with_atleast_5_connections_UG)\n",
        "print(\"total count: \")\n",
        "print(len(nodes_with_atleast_5_connections_UG))"
      ],
      "metadata": {
        "colab": {
          "base_uri": "https://localhost:8080/"
        },
        "id": "-AL2jSzMzC2_",
        "outputId": "ae438d93-9da4-47ea-c68a-4c1cac2e42f4"
      },
      "execution_count": 36,
      "outputs": [
        {
          "output_type": "stream",
          "name": "stdout",
          "text": [
            "nodes with at least one connection: \n",
            "['1', '3', '6', '11', '12', '13', '14', '16', '18', '19', '20', '21', '22', '23', '25', '29', '30', '31', '32', '33', '34', '35', '36', '37', '38', '39', '40', '41', '42', '43', '44', '45', '46', '47', '48', '49', '50', '51', '52', '53', '54', '55', '56', '57', '58', '59', '60', '61', '62', '63', '64', '65', '66', '67', '68', '69', '70', '71', '72', '73', '74', '75', '76', '77', '78', '79', '80', '81', '82', '83', '84', '85', '86', '87', '88', '89', '90', '91', '92', '93', '94', '95', '96', '97', '98', '2', '4', '5', '7', '8', '9', '10', '24', '26', '27', '15', '17', '28']\n",
            "total count: \n",
            "98\n",
            "nodes with at least five connection: \n",
            "['1', '3', '6', '11', '12', '13', '14', '16', '18', '19', '20', '21', '22', '23', '25', '29', '30', '31', '32', '33', '34', '35', '36', '37', '38', '39', '40', '41', '42', '43', '44', '45', '46', '47', '48', '49', '50', '51', '52', '53', '54', '55', '56', '57', '58', '59', '60', '61', '62', '63', '64', '65', '66', '67', '68', '69', '70', '71', '72', '73', '74', '75', '76', '77', '78', '79', '80', '81', '82', '83', '84', '85', '86', '87', '88', '89', '90', '91', '92', '93', '94', '95', '96', '97', '98', '2', '4', '5', '7', '8', '9', '10', '24', '26', '27', '15', '17', '28']\n",
            "total count: \n",
            "98\n"
          ]
        }
      ]
    }
  ]
}